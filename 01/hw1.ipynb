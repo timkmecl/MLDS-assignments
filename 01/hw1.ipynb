{
 "cells": [
  {
   "cell_type": "code",
   "execution_count": 3,
   "metadata": {},
   "outputs": [],
   "source": [
    "import numpy as np\n",
    "import pandas as pd\n",
    "import random"
   ]
  },
  {
   "cell_type": "code",
   "execution_count": 4,
   "metadata": {},
   "outputs": [],
   "source": [
    "def all_columns(X, rand):\n",
    "  return range(X.shape[1])\n",
    "\n",
    "\n",
    "def random_sqrt_columns(X, rand):\n",
    "  c = np.arange(X.shape[1])\n",
    "  rand.shuffle(c)\n",
    "  c = c[:int(np.sqrt(X.shape[1]))]\n",
    "  return c"
   ]
  },
  {
   "cell_type": "code",
   "execution_count": 251,
   "metadata": {},
   "outputs": [],
   "source": [
    "def load_tki(filename):\n",
    "  df = pd.read_csv(filename)\n",
    "  columns = df.columns\n",
    "  X_columns = columns[:-1]\n",
    "  y_column = columns[-1]\n",
    "  X = df[X_columns].values\n",
    "  y = df[y_column].values\n",
    "  classes = np.unique(y)\n",
    "  legend = {1: classes[0], 0: classes[1]}\n",
    "  y = (y == classes[0]).astype(int)\n",
    "  return X, y, legend\n",
    "\n",
    "def tki():\n",
    "  X, y, legend = load_tki('tki-resistance.csv')\n",
    "  first_n = 130\n",
    "  train = [X[:first_n], y[:first_n]]\n",
    "  test = [X[first_n:], y[first_n:]]\n",
    "  return train, test, legend"
   ]
  },
  {
   "cell_type": "code",
   "execution_count": 252,
   "metadata": {},
   "outputs": [],
   "source": [
    "train, test, legend = tki()"
   ]
  },
  {
   "cell_type": "code",
   "execution_count": 253,
   "metadata": {},
   "outputs": [],
   "source": [
    "X = train[0]\n",
    "y = train[1]"
   ]
  },
  {
   "cell_type": "code",
   "execution_count": 254,
   "metadata": {},
   "outputs": [
    {
     "data": {
      "text/plain": [
       "array([ 19, 102,  33,  18,  32, 176, 190,  12, 161, 144,  23, 169,  79,\n",
       "        36])"
      ]
     },
     "execution_count": 254,
     "metadata": {},
     "output_type": "execute_result"
    }
   ],
   "source": [
    "random_sqrt_columns(X, random.Random(1))"
   ]
  },
  {
   "cell_type": "code",
   "execution_count": 12,
   "metadata": {},
   "outputs": [],
   "source": [
    "class Tree:\n",
    "  def __init__(self, rand=None,\n",
    "         get_candidate_columns=all_columns,\n",
    "         min_samples=2):\n",
    "    self.rand = rand  # for replicability\n",
    "    self.get_candidate_columns = get_candidate_columns  # needed for random forests\n",
    "    self.min_samples = min_samples\n",
    "    \n",
    "  def gini(self, y):\n",
    "    p = np.bincount(y) / len(y)\n",
    "    return 1 - np.sum(p**2)\n",
    "  \n",
    "  def gain(self, X, y, column, thr, current_gini):\n",
    "    # gain of a given split\n",
    "    under_thr = X[:, column] < thr\n",
    "    y_under = y[under_thr]\n",
    "    y_over = y[~under_thr]\n",
    "    new_gini = (len(y_under) * self.gini(y_under) + len(y_over) * self.gini(y_over)) / len(y)\n",
    "\n",
    "    return current_gini - new_gini\n",
    "\n",
    "  def build(self, X, y):\n",
    "    # if there is too few samples or all the same return a leaf with majority class\n",
    "    if len(y) < self.min_samples or len(y) == 1 or len(np.unique(y)) == 1:\n",
    "      return TreeNode(np.bincount(y).argmax())\n",
    "    \n",
    "    # find the best split\n",
    "    current_gini = self.gini(y)\n",
    "    best_gain, best_column, best_thr = 0, 0, 0\n",
    "    columns = self.get_candidate_columns(X, self.rand)\n",
    "    for column in columns:\n",
    "      # go over all possible splits\n",
    "      sorted_ids = np.argsort(X[:, column])\n",
    "      for i in range(1, len(X)):\n",
    "        if X[sorted_ids[i], column] != X[sorted_ids[i-1], column]:\n",
    "          thr = (X[sorted_ids[i], column] + X[sorted_ids[i-1], column]) / 2\n",
    "          gain = self.gain(X, y, column, thr, current_gini)\n",
    "          if gain > best_gain:\n",
    "            best_gain, best_column, best_thr = gain, column, thr\n",
    "    \n",
    "    # if no improvement by splitting return a leaf\n",
    "    if best_gain == 0:\n",
    "      return TreeNode(np.bincount(y).argmax())\n",
    "    \n",
    "    # build the subtrees using best split\n",
    "    under_thr = X[:, best_column] < best_thr\n",
    "    X_under, y_under = X[under_thr], y[under_thr]\n",
    "    X_over, y_over = X[~under_thr], y[~under_thr]\n",
    "    left = self.build(X_under, y_under)\n",
    "    right = self.build(X_over, y_over)\n",
    "\n",
    "    return TreeNode(None, left, right, best_column, best_thr)\n",
    "\n",
    "\n",
    "\n",
    "class TreeNode:\n",
    "  def __init__(self, prediction, left=None, right=None, column=None, thr=None):\n",
    "    self.prediction = prediction\n",
    "    self.left = left\n",
    "    self.right = right\n",
    "    self.column = column\n",
    "    self.thr = thr\n",
    "\n",
    "  def predict(self, X):\n",
    "    # if it is a leaf return the prediction\n",
    "    if self.prediction is not None:\n",
    "      return self.prediction\n",
    "    \n",
    "    # otherwise split the data and recursively predict\n",
    "    under_thr = X[:, self.column] < self.thr\n",
    "    pred_left = self.left.predict(X[under_thr])\n",
    "    pred_right = self.right.predict(X[~under_thr])\n",
    "\n",
    "    # merge predictions\n",
    "    pred = np.empty(len(X), dtype=int)\n",
    "    pred[under_thr] = pred_left\n",
    "    pred[~under_thr] = pred_right\n",
    "\n",
    "    return pred\n",
    "  \n"
   ]
  },
  {
   "cell_type": "code",
   "execution_count": 241,
   "metadata": {},
   "outputs": [],
   "source": [
    "class RandomForest:\n",
    "  def __init__(self, rand=None, n=50):\n",
    "    self.n = n\n",
    "    self.rand = rand\n",
    "    self.rftree = Tree(rand=rand,\n",
    "              get_candidate_columns=random_sqrt_columns,\n",
    "              min_samples=1)\n",
    "  \n",
    "  def build(self, X, y):\n",
    "    bags = []\n",
    "    trees = []\n",
    "    oob = []\n",
    "\n",
    "    # bootstrap samples\n",
    "    for i in range(self.n):\n",
    "      ids = self.rand.choices(range(X.shape[0]), k=len(X))\n",
    "      bags.append(ids)\n",
    "      oob_i = [i for i in range(len(X)) if i not in ids]\n",
    "      oob.append(oob_i)\n",
    "      X_bag, y_bag = X[ids], y[ids]\n",
    "      trees.append(self.rftree.build(X_bag, y_bag))\n",
    "    \n",
    "    return RFModel(self.n, bags, trees, oob, self.rand, X, y)\n",
    "\n",
    "\n",
    "\n",
    "class RFModel:\n",
    "  def __init__(self, n, bags, trees, oob, rand, X, y):\n",
    "    self.n = n\n",
    "    self.bags = bags\n",
    "    self.trees = trees\n",
    "    self.oob = oob\n",
    "    self.rand = rand\n",
    "    self.X = X\n",
    "    self.y = y\n",
    "\n",
    "  def predict(self, X):\n",
    "    pred = np.zeros(len(X), dtype=int)\n",
    "    for tree in self.trees:\n",
    "      pred += tree.predict(X)\n",
    "    \n",
    "    pred = np.round(pred / self.n)\n",
    "    return pred\n",
    "\n",
    "  def importance(self):\n",
    "    def misscl_rate(y, preds):\n",
    "      errors = preds != y\n",
    "      return errors.sum() / len(y)\n",
    "    \n",
    "    n_features = self.X.shape[1]\n",
    "    imps = np.zeros(n_features)\n",
    "    # go over all features\n",
    "    for feat in range(n_features):\n",
    "      # go over all trees\n",
    "      for i in range(self.n):\n",
    "        oob_ids = self.oob[i]\n",
    "        oob_X = self.X[oob_ids, :]\n",
    "        oob_y = self.y[oob_ids]\n",
    "        miss_before = misscl_rate(oob_y, self.trees[i].predict(oob_X))\n",
    "\n",
    "        # permute the feature\n",
    "        permuted_X = oob_X.copy()\n",
    "        self.rand.shuffle(permuted_X[:, feat])\n",
    "        miss_after = misscl_rate(oob_y, self.trees[i].predict(permuted_X))\n",
    "        diff = miss_after - miss_before\n",
    "        imps[feat] += diff\n",
    "\n",
    "    return imps / self.n\n"
   ]
  },
  {
   "cell_type": "code",
   "execution_count": 303,
   "metadata": {},
   "outputs": [],
   "source": []
  },
  {
   "cell_type": "code",
   "execution_count": 304,
   "metadata": {},
   "outputs": [],
   "source": []
  },
  {
   "cell_type": "code",
   "execution_count": 269,
   "metadata": {},
   "outputs": [],
   "source": []
  },
  {
   "cell_type": "code",
   "execution_count": 270,
   "metadata": {},
   "outputs": [],
   "source": [
    "t = Tree(rand=random.Random(42),\n",
    "                                 get_candidate_columns=all_columns,\n",
    "                                 min_samples=2)\n",
    "p = t.build(train[0], train[1])"
   ]
  },
  {
   "cell_type": "code",
   "execution_count": 305,
   "metadata": {},
   "outputs": [],
   "source": [
    "pred = p.predict(test[0])"
   ]
  },
  {
   "cell_type": "code",
   "execution_count": 321,
   "metadata": {},
   "outputs": [],
   "source": [
    "def evaluate(pred, y):\n",
    "    errors = pred != y\n",
    "    missclassification_rate = errors.sum() / len(y)\n",
    "    standard_error = np.std(errors) / np.sqrt(len(y))\n",
    "    return missclassification_rate, standard_error\n",
    "\n",
    "def hw_tree_full(train, test):\n",
    "    t = Tree(rand=random.Random(42),\n",
    "        get_candidate_columns=all_columns,\n",
    "        min_samples=2)\n",
    "    p = t.build(train[0], train[1])\n",
    "    eval_train = evaluate(p.predict(train[0]), train[1])\n",
    "    eval_test = evaluate(p.predict(test[0]), test[1])\n",
    "    return eval_train, eval_test\n",
    "\n",
    "def hw_randomforests(train, test):\n",
    "    rf = RandomForest(rand=random.Random(0),\n",
    "        n=100)\n",
    "    p = rf.build(train[0], train[1])\n",
    "    eval_train = evaluate(p.predict(train[0]), train[1])\n",
    "    eval_test = evaluate(p.predict(test[0]), test[1])\n",
    "    return eval_train, eval_test"
   ]
  },
  {
   "cell_type": "code",
   "execution_count": 322,
   "metadata": {},
   "outputs": [
    {
     "data": {
      "text/plain": [
       "((0.0, 0.0), (0.1896551724137931, 0.05147582090425588))"
      ]
     },
     "execution_count": 322,
     "metadata": {},
     "output_type": "execute_result"
    }
   ],
   "source": [
    "hw_tree_full(train, test)"
   ]
  },
  {
   "cell_type": "code",
   "execution_count": 323,
   "metadata": {},
   "outputs": [
    {
     "data": {
      "text/plain": [
       "((0.0, 0.0), (0.017241379310344827, 0.017092100489256894))"
      ]
     },
     "execution_count": 323,
     "metadata": {},
     "output_type": "execute_result"
    }
   ],
   "source": [
    "hw_randomforests(train, test)"
   ]
  },
  {
   "cell_type": "code",
   "execution_count": 313,
   "metadata": {},
   "outputs": [
    {
     "data": {
      "text/plain": [
       "(0.017241379310344827, 0.017092100489256894)"
      ]
     },
     "execution_count": 313,
     "metadata": {},
     "output_type": "execute_result"
    }
   ],
   "source": [
    "evaluate(pred, test[1])"
   ]
  },
  {
   "cell_type": "code",
   "execution_count": 361,
   "metadata": {},
   "outputs": [],
   "source": [
    "\n",
    "all = [np.concatenate((train[0], test[0])), np.concatenate((train[1], test[1]))]"
   ]
  },
  {
   "cell_type": "code",
   "execution_count": 360,
   "metadata": {},
   "outputs": [
    {
     "name": "stdout",
     "output_type": "stream",
     "text": [
      "Building RF on all data for importance\n"
     ]
    },
    {
     "ename": "KeyboardInterrupt",
     "evalue": "",
     "output_type": "error",
     "traceback": [
      "\u001b[1;31m---------------------------------------------------------------------------\u001b[0m",
      "\u001b[1;31mKeyboardInterrupt\u001b[0m                         Traceback (most recent call last)",
      "Input \u001b[1;32mIn [360]\u001b[0m, in \u001b[0;36m<cell line: 5>\u001b[1;34m()\u001b[0m\n\u001b[0;32m      2\u001b[0m rf \u001b[38;5;241m=\u001b[39m RandomForest(rand\u001b[38;5;241m=\u001b[39mrandom\u001b[38;5;241m.\u001b[39mRandom(\u001b[38;5;241m1\u001b[39m),\n\u001b[0;32m      3\u001b[0m                           n\u001b[38;5;241m=\u001b[39m\u001b[38;5;241m100\u001b[39m)\n\u001b[0;32m      4\u001b[0m \u001b[38;5;28mall\u001b[39m \u001b[38;5;241m=\u001b[39m [np\u001b[38;5;241m.\u001b[39mconcatenate((train[\u001b[38;5;241m0\u001b[39m], test[\u001b[38;5;241m0\u001b[39m])), np\u001b[38;5;241m.\u001b[39mconcatenate((train[\u001b[38;5;241m1\u001b[39m], test[\u001b[38;5;241m1\u001b[39m]))]\n\u001b[1;32m----> 5\u001b[0m p \u001b[38;5;241m=\u001b[39m \u001b[43mrf\u001b[49m\u001b[38;5;241;43m.\u001b[39;49m\u001b[43mbuild\u001b[49m\u001b[43m(\u001b[49m\u001b[43mtrain\u001b[49m\u001b[43m[\u001b[49m\u001b[38;5;241;43m0\u001b[39;49m\u001b[43m]\u001b[49m\u001b[43m,\u001b[49m\u001b[43m \u001b[49m\u001b[43mtrain\u001b[49m\u001b[43m[\u001b[49m\u001b[38;5;241;43m1\u001b[39;49m\u001b[43m]\u001b[49m\u001b[43m)\u001b[49m\n\u001b[0;32m      6\u001b[0m \u001b[38;5;28mprint\u001b[39m(\u001b[38;5;124m'\u001b[39m\u001b[38;5;124mCalculating importance on all\u001b[39m\u001b[38;5;124m'\u001b[39m)\n\u001b[0;32m      7\u001b[0m \u001b[38;5;66;03m# imp = p.importance()\u001b[39;00m\n",
      "Input \u001b[1;32mIn [241]\u001b[0m, in \u001b[0;36mRandomForest.build\u001b[1;34m(self, X, y)\u001b[0m\n\u001b[0;32m     19\u001b[0m     oob\u001b[38;5;241m.\u001b[39mappend(oob_i)\n\u001b[0;32m     20\u001b[0m     X_bag, y_bag \u001b[38;5;241m=\u001b[39m X[ids], y[ids]\n\u001b[1;32m---> 21\u001b[0m     trees\u001b[38;5;241m.\u001b[39mappend(\u001b[38;5;28;43mself\u001b[39;49m\u001b[38;5;241;43m.\u001b[39;49m\u001b[43mrftree\u001b[49m\u001b[38;5;241;43m.\u001b[39;49m\u001b[43mbuild\u001b[49m\u001b[43m(\u001b[49m\u001b[43mX_bag\u001b[49m\u001b[43m,\u001b[49m\u001b[43m \u001b[49m\u001b[43my_bag\u001b[49m\u001b[43m)\u001b[49m)\n\u001b[0;32m     23\u001b[0m \u001b[38;5;28;01mreturn\u001b[39;00m RFModel(\u001b[38;5;28mself\u001b[39m\u001b[38;5;241m.\u001b[39mn, bags, trees, oob, \u001b[38;5;28mself\u001b[39m\u001b[38;5;241m.\u001b[39mrand, X, y)\n",
      "Input \u001b[1;32mIn [12]\u001b[0m, in \u001b[0;36mTree.build\u001b[1;34m(self, X, y)\u001b[0m\n\u001b[0;32m     35\u001b[0m \u001b[38;5;28;01mif\u001b[39;00m X[sorted_ids[i], column] \u001b[38;5;241m!=\u001b[39m X[sorted_ids[i\u001b[38;5;241m-\u001b[39m\u001b[38;5;241m1\u001b[39m], column]:\n\u001b[0;32m     36\u001b[0m     thr \u001b[38;5;241m=\u001b[39m (X[sorted_ids[i], column] \u001b[38;5;241m+\u001b[39m X[sorted_ids[i\u001b[38;5;241m-\u001b[39m\u001b[38;5;241m1\u001b[39m], column]) \u001b[38;5;241m/\u001b[39m \u001b[38;5;241m2\u001b[39m\n\u001b[1;32m---> 37\u001b[0m     gain \u001b[38;5;241m=\u001b[39m \u001b[38;5;28;43mself\u001b[39;49m\u001b[38;5;241;43m.\u001b[39;49m\u001b[43mgain\u001b[49m\u001b[43m(\u001b[49m\u001b[43mX\u001b[49m\u001b[43m,\u001b[49m\u001b[43m \u001b[49m\u001b[43my\u001b[49m\u001b[43m,\u001b[49m\u001b[43m \u001b[49m\u001b[43mcolumn\u001b[49m\u001b[43m,\u001b[49m\u001b[43m \u001b[49m\u001b[43mthr\u001b[49m\u001b[43m,\u001b[49m\u001b[43m \u001b[49m\u001b[43mcurrent_gini\u001b[49m\u001b[43m)\u001b[49m\n\u001b[0;32m     38\u001b[0m     \u001b[38;5;28;01mif\u001b[39;00m gain \u001b[38;5;241m>\u001b[39m best_gain:\n\u001b[0;32m     39\u001b[0m         best_gain, best_column, best_thr \u001b[38;5;241m=\u001b[39m gain, column, thr\n",
      "Input \u001b[1;32mIn [12]\u001b[0m, in \u001b[0;36mTree.gain\u001b[1;34m(self, X, y, column, thr, current_gini)\u001b[0m\n\u001b[0;32m     16\u001b[0m y_under \u001b[38;5;241m=\u001b[39m y[under_thr]\n\u001b[0;32m     17\u001b[0m y_over \u001b[38;5;241m=\u001b[39m y[\u001b[38;5;241m~\u001b[39munder_thr]\n\u001b[1;32m---> 18\u001b[0m new_gini \u001b[38;5;241m=\u001b[39m (\u001b[38;5;28mlen\u001b[39m(y_under) \u001b[38;5;241m*\u001b[39m \u001b[38;5;28mself\u001b[39m\u001b[38;5;241m.\u001b[39mgini(y_under) \u001b[38;5;241m+\u001b[39m \u001b[38;5;28mlen\u001b[39m(y_over) \u001b[38;5;241m*\u001b[39m \u001b[38;5;28;43mself\u001b[39;49m\u001b[38;5;241;43m.\u001b[39;49m\u001b[43mgini\u001b[49m\u001b[43m(\u001b[49m\u001b[43my_over\u001b[49m\u001b[43m)\u001b[49m) \u001b[38;5;241m/\u001b[39m \u001b[38;5;28mlen\u001b[39m(y)\n\u001b[0;32m     20\u001b[0m \u001b[38;5;28;01mreturn\u001b[39;00m current_gini \u001b[38;5;241m-\u001b[39m new_gini\n",
      "Input \u001b[1;32mIn [12]\u001b[0m, in \u001b[0;36mTree.gini\u001b[1;34m(self, y)\u001b[0m\n\u001b[0;32m      9\u001b[0m \u001b[38;5;28;01mdef\u001b[39;00m \u001b[38;5;21mgini\u001b[39m(\u001b[38;5;28mself\u001b[39m, y):\n\u001b[1;32m---> 10\u001b[0m     p \u001b[38;5;241m=\u001b[39m \u001b[43mnp\u001b[49m\u001b[38;5;241;43m.\u001b[39;49m\u001b[43mbincount\u001b[49m\u001b[43m(\u001b[49m\u001b[43my\u001b[49m\u001b[43m)\u001b[49m\u001b[43m \u001b[49m\u001b[38;5;241;43m/\u001b[39;49m\u001b[43m \u001b[49m\u001b[38;5;28;43mlen\u001b[39;49m\u001b[43m(\u001b[49m\u001b[43my\u001b[49m\u001b[43m)\u001b[49m\n\u001b[0;32m     11\u001b[0m     \u001b[38;5;28;01mreturn\u001b[39;00m \u001b[38;5;241m1\u001b[39m \u001b[38;5;241m-\u001b[39m np\u001b[38;5;241m.\u001b[39msum(p\u001b[38;5;241m*\u001b[39m\u001b[38;5;241m*\u001b[39m\u001b[38;5;241m2\u001b[39m)\n",
      "\u001b[1;31mKeyboardInterrupt\u001b[0m: "
     ]
    }
   ],
   "source": [
    "print('Building RF on all data for importance')\n",
    "rf = RandomForest(rand=random.Random(1),\n",
    "                          n=100)\n",
    "all = [np.concatenate((train[0], test[0])), np.concatenate((train[1], test[1]))]\n",
    "p = rf.build(train[0], train[1])\n",
    "print('Calculating importance on all')\n",
    "imp = p.importance()\n",
    "print('Saving importance graph')"
   ]
  },
  {
   "cell_type": "code",
   "execution_count": 391,
   "metadata": {},
   "outputs": [
    {
     "name": "stdout",
     "output_type": "stream",
     "text": [
      "[ 75  79  37  78 144 181 143  76  35  39]\n"
     ]
    }
   ],
   "source": [
    "import matplotlib.pyplot as plt\n",
    "imp_sort = imp.argsort()\n",
    "print(imp_sort[::-1][:10])"
   ]
  },
  {
   "cell_type": "code",
   "execution_count": 394,
   "metadata": {},
   "outputs": [
    {
     "data": {
      "image/png": "[encoded data removed]",
      "text/plain": [
       "<Figure size 360x432 with 2 Axes>"
      ]
     },
     "metadata": {
      "needs_background": "light"
     },
     "output_type": "display_data"
    }
   ],
   "source": [
    "fig, axs = plt.subplots(2, 1, figsize=(5, 6))\n",
    "fig.suptitle('Feature importance from RF')\n",
    "axs[0].bar(range(10), imp[imp_sort[::-1]][:10], tick_label=imp_sort[::-1][:10])\n",
    "axs[1].bar(range(len(imp)), imp)\n",
    "# plt.show()\n",
    "plt.savefig('importance.pdf')"
   ]
  },
  {
   "cell_type": "code",
   "execution_count": 377,
   "metadata": {},
   "outputs": [],
   "source": [
    "rand = random.Random(1)\n",
    "feats = np.zeros(all[0].shape[1])\n",
    "sample_size = int(np.sqrt(len(all[1])))*2\n",
    "# sample_size = len(all[1]) // 2\n",
    "for i in range(100):\n",
    "    c = np.arange(len(all[0]))\n",
    "    rand.shuffle(c)\n",
    "    c = c[:sample_size]\n",
    "    data = [all[0][c], all[1][c]]\n",
    "    t = Tree(rand=rand,\n",
    "            get_candidate_columns=all_columns,\n",
    "            min_samples=sample_size)\n",
    "    p = t.build(data[0], data[1])\n",
    "    feats[p.column] += 1\n",
    "    "
   ]
  },
  {
   "cell_type": "code",
   "execution_count": 389,
   "metadata": {},
   "outputs": [
    {
     "name": "stdout",
     "output_type": "stream",
     "text": [
      "[ 75  78  71  37  79  39 143  85  84  76]\n"
     ]
    }
   ],
   "source": [
    "feats_sort = feats.argsort()\n",
    "print(feats_sort[::-1][:10])"
   ]
  },
  {
   "cell_type": "code",
   "execution_count": 395,
   "metadata": {},
   "outputs": [
    {
     "data": {
      "image/png": "[encoded data removed]",
      "text/plain": [
       "<Figure size 360x432 with 2 Axes>"
      ]
     },
     "metadata": {
      "needs_background": "light"
     },
     "output_type": "display_data"
    }
   ],
   "source": [
    "fig, axs = plt.subplots(2, 1, figsize=(5, 6))\n",
    "fig.suptitle('Root variables in non-random trees')\n",
    "axs[0].bar(range(10), feats[feats_sort[::-1]][:10], tick_label=feats_sort[::-1][:10])\n",
    "axs[1].bar(range(len(feats)), feats)\n",
    "# plt.show()\n",
    "plt.savefig('roots.pdf')"
   ]
  },
  {
   "cell_type": "code",
   "execution_count": 420,
   "metadata": {},
   "outputs": [
    {
     "data": {
      "image/png": "[encoded data removed]",
      "text/plain": [
       "<Figure size 360x288 with 1 Axes>"
      ]
     },
     "metadata": {
      "needs_background": "light"
     },
     "output_type": "display_data"
    }
   ],
   "source": [
    "# put both bottom subplots as two sets for the same plot\n",
    "\n",
    "fig = plt.figure(figsize=(5, 4))\n",
    "plt.bar(range(len(feats)), feats/100, color='orange', label='Roots in non-random trees')\n",
    "plt.bar(range(len(imp)), imp, color='blue', label='Feature importance from RF')\n",
    "plt.legend()\n",
    "plt.savefig('comparison.pdf')"
   ]
  },
  {
   "cell_type": "code",
   "execution_count": 407,
   "metadata": {},
   "outputs": [
    {
     "name": "stdout",
     "output_type": "stream",
     "text": [
      "1\n",
      "3\n",
      "5\n",
      "10\n",
      "15\n",
      "20\n",
      "25\n",
      "30\n",
      "35\n",
      "40\n",
      "45\n",
      "50\n",
      "60\n",
      "70\n",
      "80\n",
      "90\n",
      "100\n"
     ]
    }
   ],
   "source": [
    "ns = [1, 3, 5, 10, 15, 20, 25, 30, 35, 40, 45, 50, 60, 70, 80, 90, 100]\n",
    "miscls = []\n",
    "uncs = []\n",
    "\n",
    "for n in ns:\n",
    "    # print(n)\n",
    "    rf = RandomForest(rand=random.Random(1),\n",
    "                          n=n)\n",
    "    p = rf.build(train[0], train[1])\n",
    "    eval_test = evaluate(p.predict(test[0]), test[1])\n",
    "    miscls.append(eval_test[0])\n",
    "    uncs.append(eval_test[1])"
   ]
  },
  {
   "cell_type": "code",
   "execution_count": 408,
   "metadata": {},
   "outputs": [
    {
     "data": {
      "image/png": "[encoded data removed]",
      "text/plain": [
       "<Figure size 432x288 with 1 Axes>"
      ]
     },
     "metadata": {
      "needs_background": "light"
     },
     "output_type": "display_data"
    }
   ],
   "source": [
    "# plot\n",
    "fig, ax = plt.subplots()\n",
    "ax.errorbar(ns, miscls, yerr=uncs, fmt='-o')\n",
    "ax.set_xlabel('Number of trees')\n",
    "ax.set_ylabel('Misclassification rate')\n",
    "plt.show()"
   ]
  },
  {
   "cell_type": "code",
   "execution_count": 409,
   "metadata": {},
   "outputs": [
    {
     "data": {
      "text/plain": [
       "[0.3448275862068966,\n",
       " 0.20689655172413793,\n",
       " 0.15517241379310345,\n",
       " 0.10344827586206896,\n",
       " 0.08620689655172414,\n",
       " 0.1206896551724138,\n",
       " 0.06896551724137931,\n",
       " 0.05172413793103448,\n",
       " 0.034482758620689655,\n",
       " 0.034482758620689655,\n",
       " 0.034482758620689655,\n",
       " 0.034482758620689655,\n",
       " 0.017241379310344827,\n",
       " 0.034482758620689655,\n",
       " 0.017241379310344827,\n",
       " 0.017241379310344827,\n",
       " 0.017241379310344827]"
      ]
     },
     "execution_count": 409,
     "metadata": {},
     "output_type": "execute_result"
    }
   ],
   "source": [
    "miscls"
   ]
  }
 ],
 "metadata": {
  "kernelspec": {
   "display_name": "Python 3",
   "language": "python",
   "name": "python3"
  },
  "language_info": {
   "codemirror_mode": {
    "name": "ipython",
    "version": 3
   },
   "file_extension": ".py",
   "mimetype": "text/x-python",
   "name": "python",
   "nbconvert_exporter": "python",
   "pygments_lexer": "ipython3",
   "version": "3.8.0"
  }
 },
 "nbformat": 4,
 "nbformat_minor": 2
}
