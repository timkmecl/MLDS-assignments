{
 "cells": [
  {
   "cell_type": "markdown",
   "metadata": {},
   "source": [
    "# Homework 2\n",
    "Tim Kmecl"
   ]
  },
  {
   "cell_type": "markdown",
   "metadata": {},
   "source": [
    "## Setup"
   ]
  },
  {
   "cell_type": "code",
   "execution_count": 1,
   "metadata": {},
   "outputs": [],
   "source": [
    "import numpy as np\n",
    "from sklearn.linear_model import LogisticRegression\n",
    "import pandas as pd\n"
   ]
  },
  {
   "cell_type": "code",
   "execution_count": 2,
   "metadata": {},
   "outputs": [],
   "source": [
    "def toy_data(n, seed=None):\n",
    "    if seed is not None:\n",
    "        np.random.seed(seed)\n",
    "    x = np.random.randn(n, 8)\n",
    "    z = 0.4 * x[:, 0] - 0.5 * x[:, 1] + 1.75 * x[:, 2] - 0.2 * x[:, 3] + x[:, 4]\n",
    "    y = np.random.rand(n) > 1 / (1 + np.exp(-z))\n",
    "    return x, y\n"
   ]
  },
  {
   "cell_type": "code",
   "execution_count": 3,
   "metadata": {},
   "outputs": [],
   "source": [
    "def log_loss(y, p):\n",
    "    return -(y * np.log(p) + (1 - y) * np.log(1 - p))"
   ]
  },
  {
   "cell_type": "code",
   "execution_count": 4,
   "metadata": {},
   "outputs": [],
   "source": [
    "# def accuracy(y, p):\n",
    "#     return np.mean(y == p)\n",
    "\n",
    "# def standard_error(y, p):\n",
    "#     return np.sqrt(np.var(y == p) / len(y))\n",
    "\n",
    "# def confidence_interval(y, p):\n",
    "#     se = standard_error(y, p)\n",
    "#     return accuracy(y, p) - 1.96 * se, accuracy(y, p) + 1.96 * se\n",
    "\n",
    "\n",
    "def risk(y, p):\n",
    "    return np.mean(log_loss(y, p))\n",
    "\n",
    "def risk_se(y, p):\n",
    "    return np.sqrt(np.var(log_loss(y, p)) / len(y))\n",
    "\n",
    "def risk_ci(y, p):\n",
    "    se = risk_se(y, p)\n",
    "    r = risk(y, p)\n",
    "    return r - 1.96 * se, r + 1.96 * se"
   ]
  },
  {
   "cell_type": "code",
   "execution_count": 5,
   "metadata": {},
   "outputs": [],
   "source": [
    "def predictions(model, x, eps=1e-8):\n",
    "    return model.predict_proba(x)[:, 1]*(1-eps) + eps/2"
   ]
  },
  {
   "cell_type": "code",
   "execution_count": 6,
   "metadata": {},
   "outputs": [],
   "source": [
    "x_dgp, y_dgp = toy_data(100000, 0)"
   ]
  },
  {
   "cell_type": "code",
   "execution_count": 7,
   "metadata": {},
   "outputs": [],
   "source": [
    "learner = LogisticRegression(penalty='none', solver='newton-cg')"
   ]
  },
  {
   "cell_type": "code",
   "execution_count": 8,
   "metadata": {},
   "outputs": [
    {
     "name": "stdout",
     "output_type": "stream",
     "text": [
      "Risk SE: 0.0017\n"
     ]
    }
   ],
   "source": [
    "model = learner.fit(x_dgp, y_dgp)\n",
    "p = predictions(model, x_dgp)\n",
    "print('Risk SE: {:.4f}'.format(risk_se(y_dgp, p)))"
   ]
  },
  {
   "cell_type": "markdown",
   "metadata": {},
   "source": [
    "By fitting the model on this dataset and then calculating the standard error of its prediction, we see that the standard error, which is the standard deviation of the risk, is less than 0.005. We can therefore expect the true risk will be off by no more than this, i.e. the change will be on the third digit."
   ]
  },
  {
   "cell_type": "markdown",
   "metadata": {},
   "source": [
    "## Holdout estimation"
   ]
  },
  {
   "cell_type": "markdown",
   "metadata": {},
   "source": [
    "### Model loss estimator variability due to test data variability"
   ]
  },
  {
   "cell_type": "code",
   "execution_count": 9,
   "metadata": {},
   "outputs": [],
   "source": [
    "x, y = toy_data(50, 1011)"
   ]
  },
  {
   "cell_type": "code",
   "execution_count": 10,
   "metadata": {},
   "outputs": [],
   "source": [
    "model = learner.fit(x, y)"
   ]
  },
  {
   "cell_type": "code",
   "execution_count": 11,
   "metadata": {},
   "outputs": [],
   "source": [
    "p = predictions(model, x_dgp)\n",
    "r_proxy = risk(y_dgp, p)"
   ]
  },
  {
   "cell_type": "code",
   "execution_count": 12,
   "metadata": {},
   "outputs": [],
   "source": [
    "rs = []\n",
    "ses = []\n",
    "cis = []\n",
    "\n",
    "for i in range(1000):\n",
    "    x, y = toy_data(50)\n",
    "    p = predictions(model, x)\n",
    "    rs.append(risk(y, p))\n",
    "    ses.append(risk_se(y, p))\n",
    "    cis.append(risk_ci(y, p))"
   ]
  },
  {
   "cell_type": "code",
   "execution_count": 13,
   "metadata": {},
   "outputs": [],
   "source": [
    "rs = np.array(rs)\n",
    "ses = np.array(ses)\n",
    "cis = np.array(cis)"
   ]
  },
  {
   "cell_type": "code",
   "execution_count": 14,
   "metadata": {},
   "outputs": [],
   "source": [
    "r_diffs = rs - r_proxy\n",
    "mean_diff = np.mean(r_diffs)\n",
    "median_se = np.median(ses)\n",
    "\n",
    "risk05 = risk(y_dgp, 0.5)\n",
    "\n",
    "contains_true = (cis[:, 0] <= r_proxy) & (r_proxy <= cis[:, 1])\n",
    "contains_true_percent = np.mean(contains_true) * 100"
   ]
  },
  {
   "cell_type": "code",
   "execution_count": 15,
   "metadata": {},
   "outputs": [
    {
     "data": {
      "image/png": "[encoded data removed]",
      "text/plain": [
       "<Figure size 432x288 with 1 Axes>"
      ]
     },
     "metadata": {},
     "output_type": "display_data"
    }
   ],
   "source": [
    "import matplotlib.pyplot as plt\n",
    "import seaborn as sns\n",
    "sns.set()\n",
    "\n",
    "sns.kdeplot(r_diffs)\n",
    "plt.axvline(mean_diff, color=\"gray\")\n",
    "plt.xlabel('est_risk - true_risk')\n",
    "plt.ylabel('Density')\n",
    "plt.show()"
   ]
  },
  {
   "cell_type": "code",
   "execution_count": 16,
   "metadata": {},
   "outputs": [
    {
     "name": "stdout",
     "output_type": "stream",
     "text": [
      "True risk proxy: 0.5310\n",
      "Mean difference: 0.0019\n",
      "0.5-0.5 baseline true risk: 0.6931\n",
      "Median standard error: 0.0833\n",
      "Percentage of 95CI that contain the true risk proxy: 93.3\n"
     ]
    }
   ],
   "source": [
    "print('True risk proxy: {:.4f}'.format(r_proxy))\n",
    "print('Mean difference: {:.4f}'.format(mean_diff))\n",
    "print('0.5-0.5 baseline true risk: {:.4f}'.format(risk05))\n",
    "print('Median standard error: {:.4f}'.format(median_se))\n",
    "print('Percentage of 95CI that contain the true risk proxy: {:.1f}'.format(contains_true_percent))"
   ]
  },
  {
   "cell_type": "markdown",
   "metadata": {},
   "source": [
    "We see that the mean difference is near 0. Median SE is quuiet large relative to the difference between true risk and 0.5-0.5 risk. Percentage inside CI is a bit less than 95%, but near. This is probably because of the small amount of data, which causes the distribution to not be similar enough to gaussian (assumpiton when calculating CI is that it is gaussian), which we can also see from the plot (the same also holds to varying degrees for later experiments).\n",
    "\n",
    "\n",
    "For practical use, we see that the CI obtained in this is approximately correct, since it empirically contains true risk almost 95 percent od the times, however it is a bit too optimistic. Nonetheless it gives us a good estimation. But we also see that SE on the small dataset is relatively large, so the CIs are wide, and almost useless for evaluating small improvements in practice. In general, small datasets cause high variability.\n",
    "\n",
    "\n",
    "If train was larger, true risk proxy should decrease. Percentage of CI that contain true risk should on average approach 95, since the distribution would be closer to gaussian.\n",
    "\n",
    "\n",
    "If test was larger, mean SE would decrease, since we would get a \"better estimate\" - our sample size would be larger and variability lower. Mean difference should on average be closer to zero, and other results shouldn't be affected. Reverse also holds."
   ]
  },
  {
   "cell_type": "markdown",
   "metadata": {},
   "source": [
    "### Overestimation of the deployed model’s risk"
   ]
  },
  {
   "cell_type": "code",
   "execution_count": 17,
   "metadata": {},
   "outputs": [],
   "source": [
    "diffs = []\n",
    "for i in range(50):\n",
    "    x1, y1 = toy_data(50, 1011+2*i)\n",
    "    model1 = learner.fit(x1, y1)\n",
    "    risk1 = risk(y_dgp, predictions(model1, x_dgp))\n",
    "\n",
    "    x2, y2 = toy_data(50, 1011+2*i+1)\n",
    "    x, y = np.vstack([x1, x2]), np.hstack([y1, y2])\n",
    "    model2 = learner.fit(x, y)\n",
    "    risk2 = risk(y_dgp, predictions(model2, x_dgp))\n",
    "\n",
    "    diffs.append(risk1 - risk2)"
   ]
  },
  {
   "cell_type": "code",
   "execution_count": 18,
   "metadata": {},
   "outputs": [
    {
     "name": "stdout",
     "output_type": "stream",
     "text": [
      "Summary of true risk h1 - true risk h2:\n",
      "                \n",
      "count  50.000000\n",
      "mean    0.438838\n",
      "std     1.256488\n",
      "min    -0.069258\n",
      "25%     0.053264\n",
      "50%     0.097529\n",
      "75%     0.213666\n",
      "max     6.612893\n"
     ]
    }
   ],
   "source": [
    "print('Summary of true risk h1 - true risk h2:')\n",
    "df = pd.DataFrame({\n",
    "    '': diffs\n",
    "})\n",
    "print(df.describe())"
   ]
  },
  {
   "cell_type": "markdown",
   "metadata": {},
   "source": [
    "\n",
    "We can see that the model fitted on smaller dataset performs worse almost all the time - sometimes a lot worse, rarely even a little better - as we can see from the fact that risk is usually higher on the one fitted on less data.\n",
    "\n",
    "\n",
    "Evaluating the model by fitting it on the subset of data will introduce a bias - risk estimate will be pessimistic. When evaluating models this way, we can expect the final model to perform better. This also shows us that we should use all the data we have to train the finall model if we want the lowest loss possible from it.\n",
    "\n",
    "\n",
    "If we increase the amount of data, the variability of both the estimate and the model itself should decrease. With large enough dataset, the amount of times the model fitted on the subset is better than the one fitted on all the data should reduce to 0 due to this. Also with larger datasets, the average difference should decrease, and approach zero with really large amount of data, since at this point even the smaller subset would be sufficiently large for the model to be able to generalize well (estimation error goes towards zero and only approximation error remains).\n"
   ]
  },
  {
   "cell_type": "markdown",
   "metadata": {},
   "source": [
    "### Loss estimator variability due to split variability"
   ]
  },
  {
   "cell_type": "code",
   "execution_count": 19,
   "metadata": {},
   "outputs": [],
   "source": [
    "x0, y0 = toy_data(100, 1011)\n",
    "model0 = learner.fit(x0, y0)\n",
    "r_proxy = risk(y_dgp, predictions(model0, x_dgp))"
   ]
  },
  {
   "cell_type": "code",
   "execution_count": 20,
   "metadata": {},
   "outputs": [],
   "source": [
    "rs = []\n",
    "ses = []\n",
    "cis = []\n",
    "\n",
    "np.random.seed(1011)\n",
    "for i in range(1000):\n",
    "    idx = np.random.permutation(100)\n",
    "    x1, y1 = x0[idx[:50]], y0[idx[:50]]\n",
    "    x2, y2 = x0[idx[50:]], y0[idx[50:]]\n",
    "    model = learner.fit(x1, y1)\n",
    "    p = predictions(model, x2)\n",
    "    rs.append(risk(y2, p))\n",
    "    ses.append(risk_se(y2, p))\n",
    "    cis.append(risk_ci(y2, p))"
   ]
  },
  {
   "cell_type": "code",
   "execution_count": 21,
   "metadata": {},
   "outputs": [],
   "source": [
    "rs = np.array(rs)\n",
    "ses = np.array(ses)\n",
    "cis = np.array(cis)"
   ]
  },
  {
   "cell_type": "code",
   "execution_count": 22,
   "metadata": {},
   "outputs": [],
   "source": [
    "r_diffs = rs - r_proxy\n",
    "mean_diff = np.mean(r_diffs)\n",
    "median_se = np.median(ses)\n",
    "\n",
    "contains_true = (cis[:, 0] <= r_proxy) & (r_proxy <= cis[:, 1])\n",
    "contains_true_percent = np.mean(contains_true) * 100"
   ]
  },
  {
   "cell_type": "code",
   "execution_count": 23,
   "metadata": {},
   "outputs": [
    {
     "data": {
      "image/png": "[encoded data removed]",
      "text/plain": [
       "<Figure size 432x288 with 1 Axes>"
      ]
     },
     "metadata": {},
     "output_type": "display_data"
    }
   ],
   "source": [
    "sns.kdeplot(r_diffs)\n",
    "plt.axvline(mean_diff, color=\"gray\")\n",
    "plt.xlabel('est_risk - true_risk')\n",
    "plt.ylabel('Density')\n",
    "plt.show()"
   ]
  },
  {
   "cell_type": "code",
   "execution_count": 24,
   "metadata": {},
   "outputs": [
    {
     "name": "stdout",
     "output_type": "stream",
     "text": [
      "True risk proxy: 0.5169\n",
      "Mean difference: 0.2993\n",
      "Median standard error: 0.1318\n",
      "Percentage of 95CI that contain the true risk proxy: 85.8\n"
     ]
    }
   ],
   "source": [
    "print('True risk proxy: {:.4f}'.format(r_proxy))\n",
    "print('Mean difference: {:.4f}'.format(mean_diff))\n",
    "print('Median standard error: {:.4f}'.format(median_se))\n",
    "print('Percentage of 95CI that contain the true risk proxy: {:.1f}'.format(contains_true_percent))"
   ]
  },
  {
   "cell_type": "markdown",
   "metadata": {},
   "source": [
    "\n",
    "Mean difference is positive, and larger than median SE. We see that the amount of times true risk is within 95% CI is visibly lower than 95%. This is due to the bias - derivation of SE and consequently CI doesn't take into account the bias introduced by fitting the model on smaller dataset. \n",
    "\n",
    "\n",
    "In practice, as in the previous section, we can expect the final model to perform better than our evaluation suggest. We can also conclude that 95% CI do not necessarily contain true risk 95% of the time, but less, if bias is big enough. This needs to be taken into consideration during evaluation.\n",
    "\n",
    "\n",
    "If the datasets were larger, mean difference would decrease, since as before the performance of the model with less train data would approach the one with more  due to estimation error decrease. But because there would also be more test data, the larger sample size would decrease SE. This would make CIs shorter, therefore it is hard to say what would happen with percentage of times true risk is within them. And vice versa for smaller dataset.\n",
    "\n",
    "\n",
    "By putting more samples into train as opposed to test set, bias would be reduced (the amount of data for fitting the model will be closer to the final model) - smaller mean difference. With less data being used for testing, estimates would be less accurate -meaning larger SE and wider CIs. Due to this, true risk being inside CI would be closer to 95%. Reverse holds for larger proportion used for testing."
   ]
  },
  {
   "cell_type": "markdown",
   "metadata": {},
   "source": [
    "## Cross-validation"
   ]
  },
  {
   "cell_type": "code",
   "execution_count": 25,
   "metadata": {},
   "outputs": [],
   "source": [
    "def cross_validation(x, y, k, seed):\n",
    "    np.random.seed(seed)\n",
    "    idx = np.random.permutation(len(y))\n",
    "    x, y = x[idx], y[idx]\n",
    "    id_splits = np.array_split(idx, k)\n",
    "    x_folds, y_folds = np.array_split(x, k), np.array_split(y, k)\n",
    "    losses = np.zeros(len(y))\n",
    "    for i in range(k):\n",
    "        x_tr = np.concatenate([x_folds[j] for j in range(k) if j != i])\n",
    "        y_tr = np.concatenate([y_folds[j] for j in range(k) if j != i])\n",
    "        x_test = x_folds[i]\n",
    "        y_test = y_folds[i]\n",
    "        model = learner.fit(x_tr, y_tr)\n",
    "        p = predictions(model, x_test)\n",
    "        losses[id_splits[i]] = log_loss(y_test, p)\n",
    "    return losses"
   ]
  },
  {
   "cell_type": "code",
   "execution_count": null,
   "metadata": {},
   "outputs": [],
   "source": [
    "# 2-fold, 4-fold, 10-fold, 20x10-fold, LOO\n",
    "r_diffs = [[] for i in range(5)]\n",
    "ses = [[] for i in range(5)]\n",
    "ci_contains = [[] for i in range(5)]\n",
    "# r_proxies = []\n",
    "\n",
    "for i in range(500):\n",
    "    print(i)\n",
    "    x0, y0 = toy_data(100, 1011 + i)\n",
    "    model0 = learner.fit(x0, y0)\n",
    "    r_proxy = risk(y_dgp, predictions(model0, x_dgp))\n",
    "    # r_proxies.append(r_proxy)\n",
    "\n",
    "\n",
    "    losses = [[] for i in range(5)]\n",
    "    losses[0] = cross_validation(x0, y0, 2, 1011)\n",
    "    losses[1] = cross_validation(x0, y0, 4, 1011)\n",
    "    losses[2] = cross_validation(x0, y0, 10, 1011)\n",
    "\n",
    "    losses[3] = np.zeros(len(y0))\n",
    "    for j in range(20):\n",
    "        losses[3] += cross_validation(x0, y0, 10, 1011+j)\n",
    "    losses[3] /= 20\n",
    "\n",
    "    losses[4] = cross_validation(x0, y0, len(y0), 1011)\n",
    "\n",
    "\n",
    "    for j in range(5):\n",
    "        r = np.array(losses[j]).mean()\n",
    "        se = np.sqrt(np.var(losses[j]) / len(losses[j]))\n",
    "        ci = [r - 1.96 * se, r + 1.96 * se]\n",
    "\n",
    "        r_diff = r - r_proxy\n",
    "        contains_true = (ci[0] <= r_proxy) & (r_proxy <= ci[1])\n",
    "        \n",
    "        r_diffs[j].append(r_diff)\n",
    "        ses[j].append(se)\n",
    "        ci_contains[j].append(contains_true)"
   ]
  },
  {
   "cell_type": "code",
   "execution_count": 28,
   "metadata": {},
   "outputs": [
    {
     "name": "stdout",
     "output_type": "stream",
     "text": [
      "\n",
      " 2-fold\n",
      "Mean difference: 0.3112\n",
      "Median standard error: 0.1125\n",
      "Percentage of 95CI that contain the true risk proxy: 66.8\n",
      "\n",
      " 4-fold\n",
      "Mean difference: 0.0397\n",
      "Median standard error: 0.0834\n",
      "Percentage of 95CI that contain the true risk proxy: 91.4\n",
      "\n",
      " 10-fold\n",
      "Mean difference: 0.0127\n",
      "Median standard error: 0.0770\n",
      "Percentage of 95CI that contain the true risk proxy: 93.4\n",
      "\n",
      " 20x10-fold\n",
      "Mean difference: 0.0120\n",
      "Median standard error: 0.0763\n",
      "Percentage of 95CI that contain the true risk proxy: 93.2\n",
      "\n",
      " LOO\n",
      "Mean difference: 0.0011\n",
      "Median standard error: 0.0745\n",
      "Percentage of 95CI that contain the true risk proxy: 93.2\n"
     ]
    }
   ],
   "source": [
    "# approaches = ['2-fold', 'LOO', '10-fold', '4-fold', '20x10-fold']\n",
    "approaches = ['2-fold', '4-fold', '10-fold', '20x10-fold', 'LOO']\n",
    "# print('True risk proxy: {:.4f}'.format(r_proxy))\n",
    "for j in range(5):\n",
    "    mean_diff = np.mean(r_diffs[j])\n",
    "    median_se = np.median(ses[j])\n",
    "    # contains_true_percent = np.array(ci_contains[j])\n",
    "    contains_true_percent = np.mean(ci_contains[j]) * 100\n",
    "\n",
    "    print()\n",
    "    print('', approaches[j])\n",
    "    print('Mean difference: {:.4f}'.format(mean_diff))\n",
    "    print('Median standard error: {:.4f}'.format(median_se))\n",
    "    print('Percentage of 95CI that contain the true risk proxy: {:.1f}'.format(contains_true_percent))"
   ]
  },
  {
   "cell_type": "code",
   "execution_count": 29,
   "metadata": {},
   "outputs": [
    {
     "data": {
      "image/png": "[encoded data removed]",
      "text/plain": [
       "<Figure size 1080x720 with 5 Axes>"
      ]
     },
     "metadata": {},
     "output_type": "display_data"
    }
   ],
   "source": [
    "# plot the distribution of the differences, use subplots\n",
    "fig, axs = plt.subplots(2, 3, figsize=(15, 10))\n",
    "for i in range(5):\n",
    "    sns.kdeplot(r_diffs[i], ax=axs[i//3, i%3])\n",
    "    axs[i//3, i%3].set_title(approaches[i])\n",
    "    axs[i//3, i%3].set_xlabel('est_risk - true_risk')\n",
    "    axs[i//3, i%3].set_ylabel('Density')\n",
    "    axs[i//3, i%3].set_xlim(np.min(r_diffs)-0.5, np.max(r_diffs) + 0.5)\n",
    "\n",
    "# delete the last subplot\n",
    "fig.delaxes(axs[1, 2])\n",
    "plt.tight_layout()\n",
    "plt.show()"
   ]
  },
  {
   "cell_type": "markdown",
   "metadata": {},
   "source": [
    "We can see that as we increade the amount of folds (k), mean difference, starting fairly high at k=2, decreases towards 0 and almost reaches it at LOO. This is due to larger train sets and consquent lower biases at higher ks. Median SE similarly decreases. Due to lower bias. Percentage of 95CI that contain the true risk proxy also approaches 95% with increasing k (it decreases at third decimal after k=10, but this could be due to chance). Repeating 10-fold CV 20 times results only in very small decrease of difference and SE.\n",
    "\n",
    "This shows us that if we want to accurately estimate the true risk of a model, we shouldn't use CV with small amount of folds, especially on small datasets. !0-fold CV or especially LOO should be used. Repeating CV 20 times results in only marginal gains and is probably not worth extra computation it needs. However, especially when using models that are expensive to train, LOO could be too expensive and 10-fold CV is probably sufficient."
   ]
  },
  {
   "cell_type": "markdown",
   "metadata": {},
   "source": [
    "---"
   ]
  },
  {
   "cell_type": "markdown",
   "metadata": {},
   "source": [
    "With large enough dataset size, the differences should be smaller, therefore even smaller k could be preferred due to lower computational costs.\n",
    "\n",
    "Below, I tried running the same experiment (with only 100 repetitions) on a smaller dataset. We see that in this case, differences are even more pronounced, even between 10-fold, 20x10-fold and LOO approach. \n",
    "\n",
    "Using a model with low approximation error could result in higher estimation error on too small train set due to overfitting. In this case, differences could be large even with larger datasets"
   ]
  },
  {
   "cell_type": "code",
   "execution_count": null,
   "metadata": {},
   "outputs": [],
   "source": [
    "# 2-fold, 4-fold, 10-fold, 20x10-fold, LOO\n",
    "r_diffs = [[] for i in range(5)]\n",
    "ses = [[] for i in range(5)]\n",
    "ci_contains = [[] for i in range(5)]\n",
    "# r_proxies = []\n",
    "\n",
    "for i in range(100):\n",
    "    print(i)\n",
    "    x0, y0 = toy_data(50, 1011 + i)\n",
    "    model0 = learner.fit(x0, y0)\n",
    "    r_proxy = risk(y_dgp, predictions(model0, x_dgp))\n",
    "    # r_proxies.append(r_proxy)\n",
    "\n",
    "\n",
    "    losses = [[] for i in range(5)]\n",
    "    losses[0] = cross_validation(x0, y0, 2, 1011)\n",
    "    losses[1] = cross_validation(x0, y0, 4, 1011)\n",
    "    losses[2] = cross_validation(x0, y0, 10, 1011)\n",
    "\n",
    "    losses[3] = np.zeros(len(y0))\n",
    "    for j in range(20):\n",
    "        losses[3] += cross_validation(x0, y0, 10, 1011+j)\n",
    "    losses[3] /= 20\n",
    "\n",
    "    losses[4] = cross_validation(x0, y0, len(y0), 1011)\n",
    "\n",
    "\n",
    "    for j in range(5):\n",
    "        r = np.array(losses[j]).mean()\n",
    "        se = np.sqrt(np.var(losses[j]) / len(losses[j]))\n",
    "        ci = [r - 1.96 * se, r + 1.96 * se]\n",
    "\n",
    "        r_diff = r - r_proxy\n",
    "        contains_true = (ci[0] <= r_proxy) & (r_proxy <= ci[1])\n",
    "        \n",
    "        r_diffs[j].append(r_diff)\n",
    "        ses[j].append(se)\n",
    "        ci_contains[j].append(contains_true)"
   ]
  },
  {
   "cell_type": "code",
   "execution_count": 152,
   "metadata": {},
   "outputs": [
    {
     "name": "stdout",
     "output_type": "stream",
     "text": [
      "\n",
      " 2-fold\n",
      "Mean difference: 2.8342\n",
      "Median standard error: 0.9614\n",
      "Percentage of 95CI that contain the true risk proxy: 15\n",
      "\n",
      " 4-fold\n",
      "Mean difference: 0.6694\n",
      "Median standard error: 0.3576\n",
      "Percentage of 95CI that contain the true risk proxy: 66\n",
      "\n",
      " 10-fold\n",
      "Mean difference: 0.1575\n",
      "Median standard error: 0.2065\n",
      "Percentage of 95CI that contain the true risk proxy: 90\n",
      "\n",
      " 20x10-fold\n",
      "Mean difference: 0.1575\n",
      "Median standard error: 0.2327\n",
      "Percentage of 95CI that contain the true risk proxy: 91\n",
      "\n",
      " LOO\n",
      "Mean difference: 0.0028\n",
      "Median standard error: 0.1836\n",
      "Percentage of 95CI that contain the true risk proxy: 93\n"
     ]
    }
   ],
   "source": [
    "# approaches = ['2-fold', 'LOO', '10-fold', '4-fold', '20x10-fold']\n",
    "approaches = ['2-fold', '4-fold', '10-fold', '20x10-fold', 'LOO']\n",
    "# print('True risk proxy: {:.4f}'.format(r_proxy))\n",
    "for j in range(5):\n",
    "    mean_diff = np.mean(r_diffs[j])\n",
    "    median_se = np.median(ses[j])\n",
    "    # contains_true_percent = np.array(ci_contains[j])\n",
    "    contains_true_percent = np.mean(ci_contains[j]) * 100\n",
    "\n",
    "    print()\n",
    "    print('', approaches[j])\n",
    "    print('Mean difference: {:.4f}'.format(mean_diff))\n",
    "    print('Median standard error: {:.4f}'.format(median_se))\n",
    "    print('Percentage of 95CI that contain the true risk proxy: {:.0f}'.format(contains_true_percent))"
   ]
  },
  {
   "cell_type": "code",
   "execution_count": null,
   "metadata": {},
   "outputs": [],
   "source": []
  }
 ],
 "metadata": {
  "kernelspec": {
   "display_name": "Python 3",
   "language": "python",
   "name": "python3"
  },
  "language_info": {
   "codemirror_mode": {
    "name": "ipython",
    "version": 3
   },
   "file_extension": ".py",
   "mimetype": "text/x-python",
   "name": "python",
   "nbconvert_exporter": "python",
   "pygments_lexer": "ipython3",
   "version": "3.6.9"
  }
 },
 "nbformat": 4,
 "nbformat_minor": 2
}
